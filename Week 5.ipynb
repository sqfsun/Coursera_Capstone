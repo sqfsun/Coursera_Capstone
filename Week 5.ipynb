{
 "cells": [
  {
   "cell_type": "markdown",
   "metadata": {},
   "source": [
    "# Week 5\n",
    "# The Battle of Neighborhoods"
   ]
  },
  {
   "cell_type": "markdown",
   "metadata": {},
   "source": [
    "## Description of the problem\n",
    "A description of the problem and a discussion of the background."
   ]
  },
  {
   "cell_type": "markdown",
   "metadata": {},
   "source": [
    "* The Housing & Development Board (HDB) is Singapore's public housing authority and a statutory board under the Ministry of National Development. They develop public housing to provide Singaporeans with affordable, quality homes, and a better living environment. Focusing on nurturing a strong family and community spirit, public housing policies and schemes are formulated to meet changing needs and aspirations. Foreigners who gained Permanent Residency are allowed to purchase HDB housing through resale. In this project, we are targeting to develop a machine learning model to predit the resale price of HDB housing."
   ]
  },
  {
   "cell_type": "markdown",
   "metadata": {},
   "source": [
    "## Audience\n",
    "* The project is designed for Singaporean/Permanent Resiedents(PR) to predict the resale price of their prospect HDB housing. The result serve as guidance for pricing."
   ]
  },
  {
   "cell_type": "markdown",
   "metadata": {},
   "source": [
    "## Methodology\n",
    "* this is a regression model with features of HDB housing by type,age, commercial, facilities and location data, with target as resale price"
   ]
  },
  {
   "cell_type": "markdown",
   "metadata": {},
   "source": [
    "# Data"
   ]
  },
  {
   "cell_type": "markdown",
   "metadata": {},
   "source": [
    "## Sources\n",
    "1. Government Data API: data.gov.sg\n",
    "    * HDB property info: https://data.gov.sg/dataset/hdb-property-information\n",
    "    * HDB median rental by town by flat type: https://data.gov.sg/dataset/median-rent-by-town-and-flat-type\n",
    "    * Median Resale price by town by flat type: https://data.gov.sg/dataset/median-resale-prices-for-registered-applications-by-town-and-flat-type\n",
    "        \n",
    "2. Singapore official geocoding data through OneMap API: http://developers.onemap.sg/commonapi/\n",
    "\n",
    "\n",
    "Note: Foursquare API is slower and less reliable than official OneMap API, which also gives geocoding and relevant info for Singapore locations. Hence in this project, we will replace Foursquare API with OneMap API\n",
    " "
   ]
  },
  {
   "cell_type": "markdown",
   "metadata": {},
   "source": [
    "## Schema\n",
    "\n",
    "     Name: 'blk_no'\n",
    "        Title: 'Block number'\n",
    "        Type: 'text'\n",
    "        Sub Type: 'general'\n",
    "      -\n",
    "        Name: 'street'\n",
    "        Title: 'Street'\n",
    "        Type: 'text'\n",
    "        Sub Type: 'general'\n",
    "      -\n",
    "        Name: 'max_floor_lvl'\n",
    "        Title: 'Maximum floor level'\n",
    "        Type: 'numeric'\n",
    "        Sub Type: 'general'\n",
    "        Unit Of Measure: 'No. of storeys'\n",
    "      -\n",
    "        Name: 'year_completed'\n",
    "        Title: 'Year completed'\n",
    "        Type: 'datetime'\n",
    "        Sub Type: 'year'\n",
    "        Format: 'YYYY'\n",
    "      -\n",
    "        Name: 'residential'\n",
    "        Title: 'Residential property tag'\n",
    "        Type: 'text'\n",
    "        Sub Type: 'general'\n",
    "      -\n",
    "        Name: 'commercial'\n",
    "        Title: 'Commercial property tag'\n",
    "        Type: 'text'\n",
    "        Sub Type: 'general'\n",
    "      -\n",
    "        Name: 'market_hawker'\n",
    "        Title: 'Market and hawker tag'\n",
    "        Type: 'text'\n",
    "        Sub Type: 'general'\n",
    "      -\n",
    "        Name: 'miscellaneous'\n",
    "        Title: 'Miscellaneous'\n",
    "        Type: 'text'\n",
    "        Sub Type: 'general'\n",
    "        Description: 'Examples include admin office, childcare centre, education centre,\n",
    "          Residents'' Committees centre'\n",
    "      -\n",
    "        Name: 'multistorey_carpark'\n",
    "        Title: 'Multi-storey carpark tag'\n",
    "        Type: 'text'\n",
    "        Sub Type: 'general'\n",
    "      -\n",
    "        Name: 'precinct_pavilion'\n",
    "        Title: 'Precinct pavilion tag'\n",
    "        Type: 'text'\n",
    "        Sub Type: 'general'\n",
    "      -\n",
    "        Name: 'bldg_contract_town'\n",
    "        Title: 'Town'\n",
    "        Type: 'text'\n",
    "        Sub Type: 'general'\n",
    "        Description:\n",
    "          - 'Legend:'\n",
    "          - 'AMK - ANG MO KIO'\n",
    "          - 'BB - BUKIT BATOK'\n",
    "          - 'BD - BEDOK'\n",
    "          - 'BH - BISHAN'\n",
    "          - 'BM - BUKIT MERAH'\n",
    "          - 'BP - BUKIT PANJANG'\n",
    "          - 'BT - BUKIT TIMAH'\n",
    "          - 'CCK - CHOA CHU KANG'\n",
    "          - 'CL - CLEMENTI'\n",
    "          - 'CT - CENTRAL AREA'\n",
    "          - 'GL - GEYLANG'\n",
    "          - 'HG - HOUGANG'\n",
    "          - 'JE - JURONG EAST'\n",
    "          - 'JW - JURONG WEST'\n",
    "          - 'KWN - KALLANG/WHAMPOA'\n",
    "          - 'MP - MARINE PARADE'\n",
    "          - 'PG - PUNGGOL'\n",
    "          - 'PRC - PASIR RIS'\n",
    "          - 'QT - QUEENSTOWN'\n",
    "          - 'SB - SEMBAWANG'\n",
    "          - 'SGN - SERANGOON'\n",
    "          - 'SK - SENGKANG'\n",
    "          - 'TAP - TAMPINES'\n",
    "          - 'TG - TENGAH'\n",
    "          - 'TP - TOA PAYOH'\n",
    "          - 'WL - WOODLANDS'\n",
    "          - 'YS - YISHUN'\n",
    "      -\n",
    "        Name: 'total_dwelling_units'\n",
    "        Title: 'Total dwelling units'\n",
    "        Type: 'numeric'\n",
    "        Sub Type: 'general'\n",
    "        Unit Of Measure: 'No. of units'\n",
    "      -\n",
    "        Name: '1room_sold'\n",
    "        Title: 'Number of 1-room sold flats'\n",
    "        Type: 'numeric'\n",
    "        Sub Type: 'general'\n",
    "        Unit Of Measure: 'No. of units'\n",
    "      -\n",
    "        Name: '2room_sold'\n",
    "        Title: 'Number of 2-room sold flats'\n",
    "        Type: 'numeric'\n",
    "        Sub Type: 'general'\n",
    "        Unit Of Measure: 'No. of units'\n",
    "      -\n",
    "        Name: '3room_sold'\n",
    "        Title: 'Number of 3-room sold flats'\n",
    "        Type: 'numeric'\n",
    "        Sub Type: 'general'\n",
    "        Unit Of Measure: 'No. of units'\n",
    "      -\n",
    "        Name: '4room_sold'\n",
    "        Title: 'Number of 4-room sold flats'\n",
    "        Type: 'numeric'\n",
    "        Sub Type: 'general'\n",
    "        Unit Of Measure: 'No. of units'\n",
    "      -\n",
    "        Name: '5room_sold'\n",
    "        Title: 'Number of 5-room sold flats'\n",
    "        Type: 'numeric'\n",
    "        Sub Type: 'general'\n",
    "        Unit Of Measure: 'No. of units'\n",
    "      -\n",
    "        Name: 'exec_sold'\n",
    "        Title: 'Number of Executive sold flats'\n",
    "        Type: 'numeric'\n",
    "        Sub Type: 'general'\n",
    "        Unit Of Measure: 'No. of units'\n",
    "      -\n",
    "        Name: 'multigen_sold'\n",
    "        Title: 'Number of Multi-generation sold flats'\n",
    "        Type: 'numeric'\n",
    "        Sub Type: 'general'\n",
    "        Unit Of Measure: 'No. of units'\n",
    "      -\n",
    "        Name: 'studio_apartment_sold'\n",
    "        Title: 'Number of Studio apartment sold flats'\n",
    "        Type: 'numeric'\n",
    "        Sub Type: 'general'\n",
    "        Unit Of Measure: 'No. of units'\n",
    "      -\n",
    "        Name: '1room_rental'\n",
    "        Title: 'Number of 1-room rental flats'\n",
    "        Type: 'numeric'\n",
    "        Sub Type: 'general'\n",
    "        Unit Of Measure: 'No. of units'\n",
    "      -\n",
    "        Name: '2room_rental'\n",
    "        Title: 'Number of 2-room rental flats'\n",
    "        Type: 'numeric'\n",
    "        Sub Type: 'general'\n",
    "        Unit Of Measure: 'No. of units'\n",
    "      -\n",
    "        Name: '3room_rental'\n",
    "        Title: 'Number of 3-room rental flats'\n",
    "        Type: 'numeric'\n",
    "        Sub Type: 'general'\n",
    "        Unit Of Measure: 'No. of units'\n",
    "      -\n",
    "        Name: 'other_room_rental'\n",
    "        Title: 'Number of Other room rental flats'\n",
    "        Type: 'numeric'\n",
    "        Sub Type: 'general'\n",
    "        Unit Of Measure: 'No. of units'\n",
    "       -\n",
    "        Name: 'quarter'\n",
    "        Title: 'Quarter'\n",
    "        Type: 'datetime'\n",
    "        Sub Type: 'quarter'\n",
    "        Format: 'YYYY-[Q]Q'\n",
    "      -\n",
    "        Name: 'town'\n",
    "        Title: 'Town'\n",
    "        Type: 'text'\n",
    "        Sub Type: 'general'\n",
    "      -\n",
    "        Name: 'flat_type'\n",
    "        Title: 'Flat Type'\n",
    "        Type: 'text'\n",
    "        Sub Type: 'general'\n",
    "      -\n",
    "        Name: 'median_rent'\n",
    "        Title: 'Median rent'\n",
    "        Type: 'text'\n",
    "        Sub Type: 'general'\n",
    "        Description:\n",
    "          - '\"na\" : Data not available or not applicable'\n",
    "          - '\"-\" : Data is negligible or not significant'\n",
    " \n",
    "        -\n",
    "        Name: 'price'\n",
    "        Title: 'Median Resale Price'\n",
    "        Type: 'text'\n",
    "        Sub Type: 'general'\n",
    "        Description:\n",
    "          - '\"na\" : Data not available or not applicable'\n",
    "          - '\"-\" : Data is negligible or not significant'\n",
    " "
   ]
  },
  {
   "cell_type": "markdown",
   "metadata": {},
   "source": [
    "# Code"
   ]
  },
  {
   "cell_type": "code",
   "execution_count": 1,
   "metadata": {
    "collapsed": true
   },
   "outputs": [],
   "source": [
    "import numpy as np\n",
    "import pandas as pd"
   ]
  },
  {
   "cell_type": "markdown",
   "metadata": {},
   "source": [
    "* Reading csv from Governement Database mentioned in Data sources section"
   ]
  },
  {
   "cell_type": "code",
   "execution_count": 2,
   "metadata": {
    "collapsed": true
   },
   "outputs": [],
   "source": [
    "rent=pd.read_csv('median-rent-by-town-and-flat-type.csv')\n",
    "hdb=pd.read_csv('hdb-property-information.csv')\n",
    "resale=pd.read_csv('median-resale-prices-for-registered-applications-by-town-and-flat-type.csv')"
   ]
  },
  {
   "cell_type": "markdown",
   "metadata": {},
   "source": [
    "* Transform year of completion to age and address by combining block_no and street\n",
    "* Map town code to town's full name"
   ]
  },
  {
   "cell_type": "code",
   "execution_count": 4,
   "metadata": {
    "collapsed": true
   },
   "outputs": [],
   "source": [
    "hdb['age']=2019-hdb.year_completed \n",
    "hdb['address']=hdb.blk_no+' '+hdb.street\n",
    "hdb['town']=hdb.bldg_contract_town.map({'TAP':'TAMPINES','JW':'JURONG WEST','WL':'WOODLANDS',\\\n",
    "                                        'SK':'SENGKANG','YS':'YISHUN','HG':'HOUGANG',\\\n",
    "                                        'CCK':'CHOA CHU KANG','PG':'PUNGGOL','BD':'BEDOK',\\\n",
    "                                       'BM':'BUKIT MERAH','PRC':'PASIR RIS','BB':'BUKIT BATOK','AMK':'ANG MO KIO',\\\n",
    "                                       'BP':'BUKIT PANJANG','KWN':'KALLANG/WHAMPOA','TP':'TOA PAYOH',\\\n",
    "                                       'GL':'GEYLANG','SB':'SEMBAWANG','QT':'QUEENSTOWN','BH':'BISHAN',\\\n",
    "                                       'JE':'JURONG EAST','SGN':'SERANGOON','CL':'CLEMENTI',\\\n",
    "                                        'CT':'CENTRAL','MP':'MARINE PARADE','BT':'BUKIT TIMAH'})"
   ]
  },
  {
   "cell_type": "markdown",
   "metadata": {},
   "source": [
    "* Encoding the Binary feature of Y/N to Boolean, 1 for Yes and 0 for No"
   ]
  },
  {
   "cell_type": "code",
   "execution_count": 5,
   "metadata": {
    "collapsed": true
   },
   "outputs": [],
   "source": [
    "hdb[['residential','commercial','market_hawker','miscellaneous','multistorey_carpark','precinct_pavilion']]=hdb[['residential','commercial','market_hawker','miscellaneous','multistorey_carpark','precinct_pavilion']].apply(lambda x:x.map({'Y':1,'N':0}))"
   ]
  },
  {
   "cell_type": "code",
   "execution_count": 6,
   "metadata": {},
   "outputs": [
    {
     "data": {
      "text/html": [
       "<div>\n",
       "<table border=\"1\" class=\"dataframe\">\n",
       "  <thead>\n",
       "    <tr style=\"text-align: right;\">\n",
       "      <th></th>\n",
       "      <th>blk_no</th>\n",
       "      <th>street</th>\n",
       "      <th>max_floor_lvl</th>\n",
       "      <th>year_completed</th>\n",
       "      <th>residential</th>\n",
       "      <th>commercial</th>\n",
       "      <th>market_hawker</th>\n",
       "      <th>miscellaneous</th>\n",
       "      <th>multistorey_carpark</th>\n",
       "      <th>precinct_pavilion</th>\n",
       "      <th>...</th>\n",
       "      <th>exec_sold</th>\n",
       "      <th>multigen_sold</th>\n",
       "      <th>studio_apartment_sold</th>\n",
       "      <th>1room_rental</th>\n",
       "      <th>2room_rental</th>\n",
       "      <th>3room_rental</th>\n",
       "      <th>other_room_rental</th>\n",
       "      <th>age</th>\n",
       "      <th>address</th>\n",
       "      <th>town</th>\n",
       "    </tr>\n",
       "  </thead>\n",
       "  <tbody>\n",
       "    <tr>\n",
       "      <th>0</th>\n",
       "      <td>1</td>\n",
       "      <td>BEACH RD</td>\n",
       "      <td>16</td>\n",
       "      <td>1970</td>\n",
       "      <td>1</td>\n",
       "      <td>1</td>\n",
       "      <td>0</td>\n",
       "      <td>0</td>\n",
       "      <td>0</td>\n",
       "      <td>0</td>\n",
       "      <td>...</td>\n",
       "      <td>0</td>\n",
       "      <td>0</td>\n",
       "      <td>0</td>\n",
       "      <td>0</td>\n",
       "      <td>0</td>\n",
       "      <td>0</td>\n",
       "      <td>0</td>\n",
       "      <td>49</td>\n",
       "      <td>1 BEACH RD</td>\n",
       "      <td>KALLANG/WHAMPOA</td>\n",
       "    </tr>\n",
       "    <tr>\n",
       "      <th>1</th>\n",
       "      <td>1</td>\n",
       "      <td>BEDOK STH AVE 1</td>\n",
       "      <td>14</td>\n",
       "      <td>1975</td>\n",
       "      <td>1</td>\n",
       "      <td>0</td>\n",
       "      <td>0</td>\n",
       "      <td>1</td>\n",
       "      <td>0</td>\n",
       "      <td>0</td>\n",
       "      <td>...</td>\n",
       "      <td>0</td>\n",
       "      <td>0</td>\n",
       "      <td>0</td>\n",
       "      <td>0</td>\n",
       "      <td>0</td>\n",
       "      <td>0</td>\n",
       "      <td>0</td>\n",
       "      <td>44</td>\n",
       "      <td>1 BEDOK STH AVE 1</td>\n",
       "      <td>BEDOK</td>\n",
       "    </tr>\n",
       "    <tr>\n",
       "      <th>2</th>\n",
       "      <td>1</td>\n",
       "      <td>CANTONMENT RD</td>\n",
       "      <td>2</td>\n",
       "      <td>2010</td>\n",
       "      <td>0</td>\n",
       "      <td>1</td>\n",
       "      <td>0</td>\n",
       "      <td>0</td>\n",
       "      <td>0</td>\n",
       "      <td>0</td>\n",
       "      <td>...</td>\n",
       "      <td>0</td>\n",
       "      <td>0</td>\n",
       "      <td>0</td>\n",
       "      <td>0</td>\n",
       "      <td>0</td>\n",
       "      <td>0</td>\n",
       "      <td>0</td>\n",
       "      <td>9</td>\n",
       "      <td>1 CANTONMENT RD</td>\n",
       "      <td>CENTRAL</td>\n",
       "    </tr>\n",
       "    <tr>\n",
       "      <th>3</th>\n",
       "      <td>1</td>\n",
       "      <td>CHAI CHEE RD</td>\n",
       "      <td>15</td>\n",
       "      <td>1982</td>\n",
       "      <td>1</td>\n",
       "      <td>0</td>\n",
       "      <td>0</td>\n",
       "      <td>0</td>\n",
       "      <td>0</td>\n",
       "      <td>0</td>\n",
       "      <td>...</td>\n",
       "      <td>0</td>\n",
       "      <td>0</td>\n",
       "      <td>0</td>\n",
       "      <td>0</td>\n",
       "      <td>0</td>\n",
       "      <td>0</td>\n",
       "      <td>0</td>\n",
       "      <td>37</td>\n",
       "      <td>1 CHAI CHEE RD</td>\n",
       "      <td>BEDOK</td>\n",
       "    </tr>\n",
       "    <tr>\n",
       "      <th>4</th>\n",
       "      <td>1</td>\n",
       "      <td>CHANGI VILLAGE RD</td>\n",
       "      <td>4</td>\n",
       "      <td>1975</td>\n",
       "      <td>1</td>\n",
       "      <td>1</td>\n",
       "      <td>0</td>\n",
       "      <td>0</td>\n",
       "      <td>0</td>\n",
       "      <td>0</td>\n",
       "      <td>...</td>\n",
       "      <td>0</td>\n",
       "      <td>0</td>\n",
       "      <td>0</td>\n",
       "      <td>0</td>\n",
       "      <td>0</td>\n",
       "      <td>0</td>\n",
       "      <td>0</td>\n",
       "      <td>44</td>\n",
       "      <td>1 CHANGI VILLAGE RD</td>\n",
       "      <td>PASIR RIS</td>\n",
       "    </tr>\n",
       "  </tbody>\n",
       "</table>\n",
       "<p>5 rows × 27 columns</p>\n",
       "</div>"
      ],
      "text/plain": [
       "  blk_no             street  max_floor_lvl  year_completed  residential  \\\n",
       "0      1           BEACH RD             16            1970            1   \n",
       "1      1    BEDOK STH AVE 1             14            1975            1   \n",
       "2      1      CANTONMENT RD              2            2010            0   \n",
       "3      1       CHAI CHEE RD             15            1982            1   \n",
       "4      1  CHANGI VILLAGE RD              4            1975            1   \n",
       "\n",
       "   commercial  market_hawker  miscellaneous  multistorey_carpark  \\\n",
       "0           1              0              0                    0   \n",
       "1           0              0              1                    0   \n",
       "2           1              0              0                    0   \n",
       "3           0              0              0                    0   \n",
       "4           1              0              0                    0   \n",
       "\n",
       "   precinct_pavilion       ...        exec_sold  multigen_sold  \\\n",
       "0                  0       ...                0              0   \n",
       "1                  0       ...                0              0   \n",
       "2                  0       ...                0              0   \n",
       "3                  0       ...                0              0   \n",
       "4                  0       ...                0              0   \n",
       "\n",
       "   studio_apartment_sold  1room_rental  2room_rental  3room_rental  \\\n",
       "0                      0             0             0             0   \n",
       "1                      0             0             0             0   \n",
       "2                      0             0             0             0   \n",
       "3                      0             0             0             0   \n",
       "4                      0             0             0             0   \n",
       "\n",
       "   other_room_rental  age              address             town  \n",
       "0                  0   49           1 BEACH RD  KALLANG/WHAMPOA  \n",
       "1                  0   44    1 BEDOK STH AVE 1            BEDOK  \n",
       "2                  0    9      1 CANTONMENT RD          CENTRAL  \n",
       "3                  0   37       1 CHAI CHEE RD            BEDOK  \n",
       "4                  0   44  1 CHANGI VILLAGE RD        PASIR RIS  \n",
       "\n",
       "[5 rows x 27 columns]"
      ]
     },
     "execution_count": 6,
     "metadata": {},
     "output_type": "execute_result"
    }
   ],
   "source": [
    "hdb.head()"
   ]
  },
  {
   "cell_type": "code",
   "execution_count": 7,
   "metadata": {
    "collapsed": true
   },
   "outputs": [],
   "source": [
    "hdb_df=hdb[['max_floor_lvl','residential','commercial','market_hawker',\n",
    "            'miscellaneous','multistorey_carpark',\n",
    "           'precinct_pavilion', 'total_dwelling_units',\n",
    "           '1room_sold', '2room_sold', '3room_sold', '4room_sold', '5room_sold',\n",
    "           'exec_sold', 'multigen_sold', 'studio_apartment_sold', '1room_rental',\n",
    "           '2room_rental', '3room_rental', 'other_room_rental', 'age', 'address',\n",
    "           'town']]"
   ]
  },
  {
   "cell_type": "markdown",
   "metadata": {},
   "source": [
    "* Take recent rental and resale data of 2019-Q3"
   ]
  },
  {
   "cell_type": "code",
   "execution_count": 8,
   "metadata": {
    "collapsed": true
   },
   "outputs": [],
   "source": [
    "Q3_rent=rent[rent['quarter']=='2019-Q3']"
   ]
  },
  {
   "cell_type": "code",
   "execution_count": 9,
   "metadata": {
    "collapsed": true
   },
   "outputs": [],
   "source": [
    "Q3_rent=Q3_rent[~Q3_rent['median_rent'].isin(['na','-'])]"
   ]
  },
  {
   "cell_type": "code",
   "execution_count": 10,
   "metadata": {
    "collapsed": true
   },
   "outputs": [],
   "source": [
    "Q3_resale=resale[resale['quarter']=='2019-Q3']"
   ]
  },
  {
   "cell_type": "code",
   "execution_count": 11,
   "metadata": {},
   "outputs": [
    {
     "data": {
      "text/plain": [
       "3-ROOM    26\n",
       "1-ROOM    26\n",
       "EXEC      26\n",
       "2-ROOM    26\n",
       "4-ROOM    26\n",
       "5-ROOM    26\n",
       "Name: flat_type, dtype: int64"
      ]
     },
     "execution_count": 11,
     "metadata": {},
     "output_type": "execute_result"
    }
   ],
   "source": [
    "Q3_resale.flat_type.value_counts()"
   ]
  },
  {
   "cell_type": "markdown",
   "metadata": {},
   "source": [
    "* Map the flat types to match among various data sources"
   ]
  },
  {
   "cell_type": "code",
   "execution_count": 12,
   "metadata": {},
   "outputs": [
    {
     "name": "stderr",
     "output_type": "stream",
     "text": [
      "C:\\Users\\SQF\\Anaconda3\\lib\\site-packages\\pandas\\core\\generic.py:2773: SettingWithCopyWarning: \n",
      "A value is trying to be set on a copy of a slice from a DataFrame.\n",
      "Try using .loc[row_indexer,col_indexer] = value instead\n",
      "\n",
      "See the caveats in the documentation: http://pandas.pydata.org/pandas-docs/stable/indexing.html#indexing-view-versus-copy\n",
      "  self[name] = value\n"
     ]
    }
   ],
   "source": [
    "Q3_resale.flat_type=Q3_resale.flat_type.map({'1-ROOM':'1-RM','2-ROOM':'2-RM','3-ROOM':'3-RM','4-ROOM':'4-RM','5-ROOM':'5-RM'})"
   ]
  },
  {
   "cell_type": "code",
   "execution_count": 13,
   "metadata": {
    "collapsed": true
   },
   "outputs": [],
   "source": [
    "Q3_value=Q3_rent.merge(Q3_resale,how='left',left_on=['quarter','town','flat_type'],right_on=['quarter','town','flat_type'])"
   ]
  },
  {
   "cell_type": "code",
   "execution_count": 15,
   "metadata": {},
   "outputs": [
    {
     "data": {
      "text/html": [
       "<div>\n",
       "<table border=\"1\" class=\"dataframe\">\n",
       "  <thead>\n",
       "    <tr style=\"text-align: right;\">\n",
       "      <th></th>\n",
       "      <th>quarter</th>\n",
       "      <th>town</th>\n",
       "      <th>flat_type</th>\n",
       "      <th>median_rent</th>\n",
       "      <th>price</th>\n",
       "    </tr>\n",
       "  </thead>\n",
       "  <tbody>\n",
       "    <tr>\n",
       "      <th>0</th>\n",
       "      <td>2019-Q3</td>\n",
       "      <td>ANG MO KIO</td>\n",
       "      <td>3-RM</td>\n",
       "      <td>1700</td>\n",
       "      <td>280000</td>\n",
       "    </tr>\n",
       "    <tr>\n",
       "      <th>1</th>\n",
       "      <td>2019-Q3</td>\n",
       "      <td>ANG MO KIO</td>\n",
       "      <td>4-RM</td>\n",
       "      <td>2100</td>\n",
       "      <td>408000</td>\n",
       "    </tr>\n",
       "    <tr>\n",
       "      <th>2</th>\n",
       "      <td>2019-Q3</td>\n",
       "      <td>ANG MO KIO</td>\n",
       "      <td>5-RM</td>\n",
       "      <td>2400</td>\n",
       "      <td>597500</td>\n",
       "    </tr>\n",
       "    <tr>\n",
       "      <th>3</th>\n",
       "      <td>2019-Q3</td>\n",
       "      <td>BEDOK</td>\n",
       "      <td>3-RM</td>\n",
       "      <td>1700</td>\n",
       "      <td>280000</td>\n",
       "    </tr>\n",
       "    <tr>\n",
       "      <th>4</th>\n",
       "      <td>2019-Q3</td>\n",
       "      <td>BEDOK</td>\n",
       "      <td>4-RM</td>\n",
       "      <td>2000</td>\n",
       "      <td>400000</td>\n",
       "    </tr>\n",
       "  </tbody>\n",
       "</table>\n",
       "</div>"
      ],
      "text/plain": [
       "   quarter        town flat_type median_rent   price\n",
       "0  2019-Q3  ANG MO KIO      3-RM        1700  280000\n",
       "1  2019-Q3  ANG MO KIO      4-RM        2100  408000\n",
       "2  2019-Q3  ANG MO KIO      5-RM        2400  597500\n",
       "3  2019-Q3       BEDOK      3-RM        1700  280000\n",
       "4  2019-Q3       BEDOK      4-RM        2000  400000"
      ]
     },
     "execution_count": 15,
     "metadata": {},
     "output_type": "execute_result"
    }
   ],
   "source": [
    "Q3_value.head()"
   ]
  },
  {
   "cell_type": "code",
   "execution_count": 16,
   "metadata": {
    "collapsed": true
   },
   "outputs": [],
   "source": [
    "hdb_df=hdb_df.merge(Q3_value,how='outer',on=['town'])"
   ]
  },
  {
   "cell_type": "code",
   "execution_count": 20,
   "metadata": {
    "collapsed": true
   },
   "outputs": [],
   "source": [
    "addlist=hdb.address #Address list to call OneMap API and GET geocoding info"
   ]
  },
  {
   "cell_type": "code",
   "execution_count": 18,
   "metadata": {
    "collapsed": true
   },
   "outputs": [],
   "source": [
    "import requests\n",
    "import json\n",
    "import re\n",
    "import time\n",
    "from tqdm import tqdm\n",
    "from random import randint "
   ]
  },
  {
   "cell_type": "code",
   "execution_count": 19,
   "metadata": {
    "collapsed": true
   },
   "outputs": [],
   "source": [
    "# -*- coding: utf-8 -*-\n",
    "user_agents =['Mozilla/5.0 (Windows NT 10.0; Win64; x64) AppleWebKit/537.36 (KHTML, like Gecko) Chrome/74.0.3729.169 Safari/537.36',\\\n",
    "              'Mozilla/5.0 (Windows NT 10.0; Win64; x64) AppleWebKit/537.36 (KHTML, like Gecko) Chrome/74.0.3729.157 Safari/537.36',\\\n",
    "             'Mozilla/5.0 (Windows NT 10.0; Win64; x64) AppleWebKit/537.36 (KHTML, like Gecko) Chrome/64.0.3282.140 Safari/537.36 Edge/18.17763',\\\n",
    "             'Mozilla/5.0 (Windows NT 10.0; Win64; x64) AppleWebKit/537.36 (KHTML, like Gecko) Chrome/58.0.3029.110 Safari/537.36 Edge/16.16299',\\\n",
    "             'Mozilla/5.0 (Macintosh; Intel Mac OS X 10_10_5) AppleWebKit/603.3.8 (KHTML, like Gecko) Version/10.1.2 Safari/603.3.8',\\\n",
    "             'Mozilla/5.0 (Macintosh; Intel Mac OS X 10_11_6) AppleWebKit/601.7.8 (KHTML, like Gecko)',\\\n",
    "             'Mozilla/5.0 (Macintosh; Intel Mac OS X 10_11_6) AppleWebKit/605.1.15 (KHTML, like Gecko) Version/11.1.2 Safari/605.1.15',\\\n",
    "             'Mozilla/5.0 (Macintosh; Intel Mac OS X 10_10_5) AppleWebKit/600.8.9 (KHTML, like Gecko)',\\\n",
    "             'Mozilla/5.0 (Macintosh; Intel Mac OS X 10_6_8) AppleWebKit/537.36 (KHTML, like Gecko) Chrome/49.0.2623.112 Safari/537.36',\\\n",
    "             'Mozilla/5.0 (X11; Ubuntu; Linux x86_64; rv:15.0) Gecko/20100101 Firefox/15.0.1']\n",
    "\n",
    "#get agents from: https://developers.whatismybrowser.com/"
   ]
  },
  {
   "cell_type": "markdown",
   "metadata": {},
   "source": [
    "* API to GET Geocoding"
   ]
  },
  {
   "cell_type": "code",
   "execution_count": null,
   "metadata": {
    "collapsed": true
   },
   "outputs": [],
   "source": [
    "LAT=[]\n",
    "LON=[]\n",
    "Address=[]\n",
    "for i in tqdm(range(len(addlist))):\n",
    "    \n",
    "    try:\n",
    "        index = randint(0, 9)\n",
    "        user_agent = user_agents[index]\n",
    "        headers = {'User-Agent': user_agent}\n",
    "        response=requests.get('http://developers.onemap.sg/commonapi/search?searchVal={0}&returnGeom=Y&getAddrDetails=N&pageNum={1}'\\\n",
    "                          .format(addlist[i], 1),headers=headers).json()\n",
    "        Address.append(addlist[i])\n",
    "        LAT.append(response['results'][0]['LATITUDE'])\n",
    "        LON.append(response['results'][0]['LONGITUDE'])\n",
    "        \n",
    "    except (RuntimeError, TypeError, NameError,IndexError):\n",
    "        Address.append(addlist[i])\n",
    "        LAT.append(None)\n",
    "        LON.append(None)\n",
    "        \n",
    "    time.sleep(0.5)"
   ]
  },
  {
   "cell_type": "code",
   "execution_count": null,
   "metadata": {
    "collapsed": true
   },
   "outputs": [],
   "source": [
    "Coordinate=pd.DataFrame(list(zip(Address,LAT,LON)),columns=['address','Latitude','Longitude'])"
   ]
  },
  {
   "cell_type": "code",
   "execution_count": null,
   "metadata": {
    "collapsed": true
   },
   "outputs": [],
   "source": [
    "Coordinate.to_csv('Coordinate.csv') #Save results"
   ]
  },
  {
   "cell_type": "code",
   "execution_count": 21,
   "metadata": {
    "collapsed": true
   },
   "outputs": [],
   "source": [
    "Coordinate=pd.read_csv('Coordinate.csv') #Read results"
   ]
  },
  {
   "cell_type": "code",
   "execution_count": 22,
   "metadata": {
    "collapsed": true
   },
   "outputs": [],
   "source": [
    "Coordinate=Coordinate.drop(['Unnamed: 0'],axis=1)"
   ]
  },
  {
   "cell_type": "code",
   "execution_count": 23,
   "metadata": {},
   "outputs": [
    {
     "data": {
      "text/plain": [
       "Address      False\n",
       "Latitude      True\n",
       "Longitude     True\n",
       "dtype: bool"
      ]
     },
     "execution_count": 23,
     "metadata": {},
     "output_type": "execute_result"
    }
   ],
   "source": [
    "Coordinate.isnull().any()"
   ]
  },
  {
   "cell_type": "markdown",
   "metadata": {},
   "source": [
    "* Not all address found"
   ]
  },
  {
   "cell_type": "code",
   "execution_count": 24,
   "metadata": {
    "collapsed": true
   },
   "outputs": [],
   "source": [
    "hdb_data=hdb_df.merge(Coordinate,how='inner',left_on='address',right_on='Address')"
   ]
  },
  {
   "cell_type": "code",
   "execution_count": 25,
   "metadata": {},
   "outputs": [
    {
     "data": {
      "text/plain": [
       "Index(['max_floor_lvl', 'residential', 'commercial', 'market_hawker',\n",
       "       'miscellaneous', 'multistorey_carpark', 'precinct_pavilion',\n",
       "       'total_dwelling_units', '1room_sold', '2room_sold', '3room_sold',\n",
       "       '4room_sold', '5room_sold', 'exec_sold', 'multigen_sold',\n",
       "       'studio_apartment_sold', '1room_rental', '2room_rental', '3room_rental',\n",
       "       'other_room_rental', 'age', 'address', 'town', 'flat_type',\n",
       "       'median_rent', 'price', 'Address', 'Latitude', 'Longitude'],\n",
       "      dtype='object')"
      ]
     },
     "execution_count": 25,
     "metadata": {},
     "output_type": "execute_result"
    }
   ],
   "source": [
    "hdb_data.drop(['quarter'],axis=1,inplace=True)\n",
    "hdb_data.columns"
   ]
  },
  {
   "cell_type": "code",
   "execution_count": 26,
   "metadata": {},
   "outputs": [
    {
     "data": {
      "text/plain": [
       "False    43857\n",
       "Name: Address, dtype: int64"
      ]
     },
     "execution_count": 26,
     "metadata": {},
     "output_type": "execute_result"
    }
   ],
   "source": [
    "hdb_data['Address'].isnull().value_counts()"
   ]
  },
  {
   "cell_type": "markdown",
   "metadata": {},
   "source": [
    "* All inner joined remain 43857 units"
   ]
  },
  {
   "cell_type": "code",
   "execution_count": 27,
   "metadata": {},
   "outputs": [
    {
     "data": {
      "text/plain": [
       "Index(['max_floor_lvl', 'residential', 'commercial', 'market_hawker',\n",
       "       'miscellaneous', 'multistorey_carpark', 'precinct_pavilion',\n",
       "       'total_dwelling_units', '1room_sold', '2room_sold', '3room_sold',\n",
       "       '4room_sold', '5room_sold', 'exec_sold', 'multigen_sold',\n",
       "       'studio_apartment_sold', '1room_rental', '2room_rental', '3room_rental',\n",
       "       'other_room_rental', 'age', 'address', 'town', 'flat_type',\n",
       "       'median_rent', 'price', 'Latitude', 'Longitude'],\n",
       "      dtype='object')"
      ]
     },
     "execution_count": 27,
     "metadata": {},
     "output_type": "execute_result"
    }
   ],
   "source": [
    "hdb_data.drop(['Address'],axis=1,inplace=True)\n",
    "hdb_data.columns"
   ]
  },
  {
   "cell_type": "code",
   "execution_count": 28,
   "metadata": {},
   "outputs": [
    {
     "name": "stdout",
     "output_type": "stream",
     "text": [
      "<class 'pandas.core.frame.DataFrame'>\n",
      "Int64Index: 43857 entries, 0 to 43856\n",
      "Data columns (total 28 columns):\n",
      "max_floor_lvl            43857 non-null int64\n",
      "residential              43857 non-null int64\n",
      "commercial               43857 non-null int64\n",
      "market_hawker            43857 non-null int64\n",
      "miscellaneous            43857 non-null int64\n",
      "multistorey_carpark      43857 non-null int64\n",
      "precinct_pavilion        43857 non-null int64\n",
      "total_dwelling_units     43857 non-null int64\n",
      "1room_sold               43857 non-null int64\n",
      "2room_sold               43857 non-null int64\n",
      "3room_sold               43857 non-null int64\n",
      "4room_sold               43857 non-null int64\n",
      "5room_sold               43857 non-null int64\n",
      "exec_sold                43857 non-null int64\n",
      "multigen_sold            43857 non-null int64\n",
      "studio_apartment_sold    43857 non-null int64\n",
      "1room_rental             43857 non-null int64\n",
      "2room_rental             43857 non-null int64\n",
      "3room_rental             43857 non-null int64\n",
      "other_room_rental        43857 non-null int64\n",
      "age                      43857 non-null int64\n",
      "address                  43857 non-null object\n",
      "town                     43857 non-null object\n",
      "flat_type                43811 non-null object\n",
      "median_rent              43811 non-null object\n",
      "price                    35585 non-null object\n",
      "Latitude                 43021 non-null float64\n",
      "Longitude                43021 non-null float64\n",
      "dtypes: float64(2), int64(21), object(5)\n",
      "memory usage: 8.9+ MB\n"
     ]
    }
   ],
   "source": [
    "hdb_data.info()"
   ]
  },
  {
   "cell_type": "code",
   "execution_count": 29,
   "metadata": {},
   "outputs": [
    {
     "data": {
      "text/plain": [
       "4-RM    12154\n",
       "5-RM    12037\n",
       "3-RM    11288\n",
       "EXEC     7992\n",
       "2-RM      340\n",
       "Name: flat_type, dtype: int64"
      ]
     },
     "execution_count": 29,
     "metadata": {},
     "output_type": "execute_result"
    }
   ],
   "source": [
    "hdb_data['flat_type'].value_counts()"
   ]
  },
  {
   "cell_type": "markdown",
   "metadata": {},
   "source": [
    "* Flat Types are numeric feature that will affect price, hence transform string to Categorical"
   ]
  },
  {
   "cell_type": "code",
   "execution_count": 30,
   "metadata": {
    "collapsed": true
   },
   "outputs": [],
   "source": [
    "hdb_data['flat_type']=hdb_data['flat_type'].map({'EXEC':1,'2-RM':2,'3-RM':3,'4-RM':4,'5-RM':5})"
   ]
  },
  {
   "cell_type": "code",
   "execution_count": 31,
   "metadata": {
    "collapsed": true
   },
   "outputs": [],
   "source": [
    "hdb_data['median_rent']=pd.to_numeric(hdb_data['median_rent'])"
   ]
  },
  {
   "cell_type": "code",
   "execution_count": 32,
   "metadata": {
    "collapsed": true
   },
   "outputs": [],
   "source": [
    "hdb_data['price']=pd.to_numeric(hdb_data['price'],errors='coerce')"
   ]
  },
  {
   "cell_type": "code",
   "execution_count": 35,
   "metadata": {
    "collapsed": true
   },
   "outputs": [],
   "source": [
    "data_set=hdb_data[~(hdb_data['price'].isnull())] # Data set to train and test"
   ]
  },
  {
   "cell_type": "code",
   "execution_count": 36,
   "metadata": {
    "collapsed": true
   },
   "outputs": [],
   "source": [
    "to_explore=hdb_data[hdb_data['price'].isnull()] # Data set to explore"
   ]
  },
  {
   "cell_type": "code",
   "execution_count": 38,
   "metadata": {},
   "outputs": [
    {
     "data": {
      "text/html": [
       "<div>\n",
       "<table border=\"1\" class=\"dataframe\">\n",
       "  <thead>\n",
       "    <tr style=\"text-align: right;\">\n",
       "      <th></th>\n",
       "      <th>max_floor_lvl</th>\n",
       "      <th>residential</th>\n",
       "      <th>commercial</th>\n",
       "      <th>market_hawker</th>\n",
       "      <th>miscellaneous</th>\n",
       "      <th>multistorey_carpark</th>\n",
       "      <th>precinct_pavilion</th>\n",
       "      <th>total_dwelling_units</th>\n",
       "      <th>1room_sold</th>\n",
       "      <th>2room_sold</th>\n",
       "      <th>...</th>\n",
       "      <th>1room_rental</th>\n",
       "      <th>2room_rental</th>\n",
       "      <th>3room_rental</th>\n",
       "      <th>other_room_rental</th>\n",
       "      <th>age</th>\n",
       "      <th>flat_type</th>\n",
       "      <th>median_rent</th>\n",
       "      <th>price</th>\n",
       "      <th>Latitude</th>\n",
       "      <th>Longitude</th>\n",
       "    </tr>\n",
       "  </thead>\n",
       "  <tbody>\n",
       "    <tr>\n",
       "      <th>count</th>\n",
       "      <td>34554.000000</td>\n",
       "      <td>34554.000000</td>\n",
       "      <td>34554.000000</td>\n",
       "      <td>34554.000000</td>\n",
       "      <td>34554.000000</td>\n",
       "      <td>34554.000000</td>\n",
       "      <td>34554.000000</td>\n",
       "      <td>34554.000000</td>\n",
       "      <td>34554.000000</td>\n",
       "      <td>34554.000000</td>\n",
       "      <td>...</td>\n",
       "      <td>34554.000000</td>\n",
       "      <td>34554.000000</td>\n",
       "      <td>34554.00000</td>\n",
       "      <td>34554.000000</td>\n",
       "      <td>34554.000000</td>\n",
       "      <td>34554.000000</td>\n",
       "      <td>34554.000000</td>\n",
       "      <td>34554.000000</td>\n",
       "      <td>33891.000000</td>\n",
       "      <td>33891.000000</td>\n",
       "    </tr>\n",
       "    <tr>\n",
       "      <th>mean</th>\n",
       "      <td>11.967240</td>\n",
       "      <td>0.822683</td>\n",
       "      <td>0.207357</td>\n",
       "      <td>0.008798</td>\n",
       "      <td>0.224055</td>\n",
       "      <td>0.081380</td>\n",
       "      <td>0.058430</td>\n",
       "      <td>88.418938</td>\n",
       "      <td>0.044279</td>\n",
       "      <td>1.962349</td>\n",
       "      <td>...</td>\n",
       "      <td>2.714707</td>\n",
       "      <td>2.507785</td>\n",
       "      <td>0.11932</td>\n",
       "      <td>0.008769</td>\n",
       "      <td>26.070035</td>\n",
       "      <td>4.023673</td>\n",
       "      <td>1953.887538</td>\n",
       "      <td>422948.671644</td>\n",
       "      <td>1.366290</td>\n",
       "      <td>103.840188</td>\n",
       "    </tr>\n",
       "    <tr>\n",
       "      <th>std</th>\n",
       "      <td>6.888659</td>\n",
       "      <td>0.381942</td>\n",
       "      <td>0.405419</td>\n",
       "      <td>0.093385</td>\n",
       "      <td>0.416965</td>\n",
       "      <td>0.273422</td>\n",
       "      <td>0.234559</td>\n",
       "      <td>66.183893</td>\n",
       "      <td>3.359969</td>\n",
       "      <td>12.343498</td>\n",
       "      <td>...</td>\n",
       "      <td>26.631856</td>\n",
       "      <td>21.581439</td>\n",
       "      <td>2.78184</td>\n",
       "      <td>0.517132</td>\n",
       "      <td>13.727770</td>\n",
       "      <td>0.808434</td>\n",
       "      <td>311.021615</td>\n",
       "      <td>136138.463521</td>\n",
       "      <td>0.042256</td>\n",
       "      <td>0.073595</td>\n",
       "    </tr>\n",
       "    <tr>\n",
       "      <th>min</th>\n",
       "      <td>1.000000</td>\n",
       "      <td>0.000000</td>\n",
       "      <td>0.000000</td>\n",
       "      <td>0.000000</td>\n",
       "      <td>0.000000</td>\n",
       "      <td>0.000000</td>\n",
       "      <td>0.000000</td>\n",
       "      <td>0.000000</td>\n",
       "      <td>0.000000</td>\n",
       "      <td>0.000000</td>\n",
       "      <td>...</td>\n",
       "      <td>0.000000</td>\n",
       "      <td>0.000000</td>\n",
       "      <td>0.00000</td>\n",
       "      <td>0.000000</td>\n",
       "      <td>0.000000</td>\n",
       "      <td>3.000000</td>\n",
       "      <td>1400.000000</td>\n",
       "      <td>239500.000000</td>\n",
       "      <td>1.270380</td>\n",
       "      <td>103.685228</td>\n",
       "    </tr>\n",
       "    <tr>\n",
       "      <th>25%</th>\n",
       "      <td>6.000000</td>\n",
       "      <td>1.000000</td>\n",
       "      <td>0.000000</td>\n",
       "      <td>0.000000</td>\n",
       "      <td>0.000000</td>\n",
       "      <td>0.000000</td>\n",
       "      <td>0.000000</td>\n",
       "      <td>39.000000</td>\n",
       "      <td>0.000000</td>\n",
       "      <td>0.000000</td>\n",
       "      <td>...</td>\n",
       "      <td>0.000000</td>\n",
       "      <td>0.000000</td>\n",
       "      <td>0.00000</td>\n",
       "      <td>0.000000</td>\n",
       "      <td>18.000000</td>\n",
       "      <td>3.000000</td>\n",
       "      <td>1750.000000</td>\n",
       "      <td>330000.000000</td>\n",
       "      <td>1.337865</td>\n",
       "      <td>103.774574</td>\n",
       "    </tr>\n",
       "    <tr>\n",
       "      <th>50%</th>\n",
       "      <td>12.000000</td>\n",
       "      <td>1.000000</td>\n",
       "      <td>0.000000</td>\n",
       "      <td>0.000000</td>\n",
       "      <td>0.000000</td>\n",
       "      <td>0.000000</td>\n",
       "      <td>0.000000</td>\n",
       "      <td>91.000000</td>\n",
       "      <td>0.000000</td>\n",
       "      <td>0.000000</td>\n",
       "      <td>...</td>\n",
       "      <td>0.000000</td>\n",
       "      <td>0.000000</td>\n",
       "      <td>0.00000</td>\n",
       "      <td>0.000000</td>\n",
       "      <td>26.000000</td>\n",
       "      <td>4.000000</td>\n",
       "      <td>1900.000000</td>\n",
       "      <td>406000.000000</td>\n",
       "      <td>1.364542</td>\n",
       "      <td>103.845414</td>\n",
       "    </tr>\n",
       "    <tr>\n",
       "      <th>75%</th>\n",
       "      <td>16.000000</td>\n",
       "      <td>1.000000</td>\n",
       "      <td>0.000000</td>\n",
       "      <td>0.000000</td>\n",
       "      <td>0.000000</td>\n",
       "      <td>0.000000</td>\n",
       "      <td>0.000000</td>\n",
       "      <td>120.000000</td>\n",
       "      <td>0.000000</td>\n",
       "      <td>0.000000</td>\n",
       "      <td>...</td>\n",
       "      <td>0.000000</td>\n",
       "      <td>0.000000</td>\n",
       "      <td>0.00000</td>\n",
       "      <td>0.000000</td>\n",
       "      <td>35.000000</td>\n",
       "      <td>5.000000</td>\n",
       "      <td>2100.000000</td>\n",
       "      <td>487500.000000</td>\n",
       "      <td>1.392941</td>\n",
       "      <td>103.899025</td>\n",
       "    </tr>\n",
       "    <tr>\n",
       "      <th>max</th>\n",
       "      <td>47.000000</td>\n",
       "      <td>1.000000</td>\n",
       "      <td>1.000000</td>\n",
       "      <td>1.000000</td>\n",
       "      <td>1.000000</td>\n",
       "      <td>1.000000</td>\n",
       "      <td>1.000000</td>\n",
       "      <td>584.000000</td>\n",
       "      <td>255.000000</td>\n",
       "      <td>225.000000</td>\n",
       "      <td>...</td>\n",
       "      <td>520.000000</td>\n",
       "      <td>452.000000</td>\n",
       "      <td>114.00000</td>\n",
       "      <td>32.000000</td>\n",
       "      <td>82.000000</td>\n",
       "      <td>5.000000</td>\n",
       "      <td>2800.000000</td>\n",
       "      <td>832500.000000</td>\n",
       "      <td>1.457071</td>\n",
       "      <td>103.988299</td>\n",
       "    </tr>\n",
       "  </tbody>\n",
       "</table>\n",
       "<p>8 rows × 26 columns</p>\n",
       "</div>"
      ],
      "text/plain": [
       "       max_floor_lvl   residential    commercial  market_hawker  \\\n",
       "count   34554.000000  34554.000000  34554.000000   34554.000000   \n",
       "mean       11.967240      0.822683      0.207357       0.008798   \n",
       "std         6.888659      0.381942      0.405419       0.093385   \n",
       "min         1.000000      0.000000      0.000000       0.000000   \n",
       "25%         6.000000      1.000000      0.000000       0.000000   \n",
       "50%        12.000000      1.000000      0.000000       0.000000   \n",
       "75%        16.000000      1.000000      0.000000       0.000000   \n",
       "max        47.000000      1.000000      1.000000       1.000000   \n",
       "\n",
       "       miscellaneous  multistorey_carpark  precinct_pavilion  \\\n",
       "count   34554.000000         34554.000000       34554.000000   \n",
       "mean        0.224055             0.081380           0.058430   \n",
       "std         0.416965             0.273422           0.234559   \n",
       "min         0.000000             0.000000           0.000000   \n",
       "25%         0.000000             0.000000           0.000000   \n",
       "50%         0.000000             0.000000           0.000000   \n",
       "75%         0.000000             0.000000           0.000000   \n",
       "max         1.000000             1.000000           1.000000   \n",
       "\n",
       "       total_dwelling_units    1room_sold    2room_sold      ...       \\\n",
       "count          34554.000000  34554.000000  34554.000000      ...        \n",
       "mean              88.418938      0.044279      1.962349      ...        \n",
       "std               66.183893      3.359969     12.343498      ...        \n",
       "min                0.000000      0.000000      0.000000      ...        \n",
       "25%               39.000000      0.000000      0.000000      ...        \n",
       "50%               91.000000      0.000000      0.000000      ...        \n",
       "75%              120.000000      0.000000      0.000000      ...        \n",
       "max              584.000000    255.000000    225.000000      ...        \n",
       "\n",
       "       1room_rental  2room_rental  3room_rental  other_room_rental  \\\n",
       "count  34554.000000  34554.000000   34554.00000       34554.000000   \n",
       "mean       2.714707      2.507785       0.11932           0.008769   \n",
       "std       26.631856     21.581439       2.78184           0.517132   \n",
       "min        0.000000      0.000000       0.00000           0.000000   \n",
       "25%        0.000000      0.000000       0.00000           0.000000   \n",
       "50%        0.000000      0.000000       0.00000           0.000000   \n",
       "75%        0.000000      0.000000       0.00000           0.000000   \n",
       "max      520.000000    452.000000     114.00000          32.000000   \n",
       "\n",
       "                age     flat_type   median_rent          price      Latitude  \\\n",
       "count  34554.000000  34554.000000  34554.000000   34554.000000  33891.000000   \n",
       "mean      26.070035      4.023673   1953.887538  422948.671644      1.366290   \n",
       "std       13.727770      0.808434    311.021615  136138.463521      0.042256   \n",
       "min        0.000000      3.000000   1400.000000  239500.000000      1.270380   \n",
       "25%       18.000000      3.000000   1750.000000  330000.000000      1.337865   \n",
       "50%       26.000000      4.000000   1900.000000  406000.000000      1.364542   \n",
       "75%       35.000000      5.000000   2100.000000  487500.000000      1.392941   \n",
       "max       82.000000      5.000000   2800.000000  832500.000000      1.457071   \n",
       "\n",
       "          Longitude  \n",
       "count  33891.000000  \n",
       "mean     103.840188  \n",
       "std        0.073595  \n",
       "min      103.685228  \n",
       "25%      103.774574  \n",
       "50%      103.845414  \n",
       "75%      103.899025  \n",
       "max      103.988299  \n",
       "\n",
       "[8 rows x 26 columns]"
      ]
     },
     "execution_count": 38,
     "metadata": {},
     "output_type": "execute_result"
    }
   ],
   "source": [
    "data_set.describe() # Overview of Data set"
   ]
  },
  {
   "cell_type": "code",
   "execution_count": 39,
   "metadata": {
    "collapsed": true
   },
   "outputs": [],
   "source": [
    "import seaborn as sns\n",
    "import matplotlib.pyplot as plt"
   ]
  },
  {
   "cell_type": "code",
   "execution_count": 40,
   "metadata": {},
   "outputs": [
    {
     "data": {
      "image/png": "[encoded data removed]",
      "text/plain": [
       "<matplotlib.figure.Figure at 0x94dacf0>"
      ]
     },
     "metadata": {},
     "output_type": "display_data"
    }
   ],
   "source": [
    "ax = sns.heatmap(data_set.corr(), vmin=0, vmax=1)\n",
    "\n",
    "plt.show()"
   ]
  },
  {
   "cell_type": "markdown",
   "metadata": {},
   "source": [
    "* Based on heatmap of correlation, Price is affected mostly by Rent and type, coming with age which is slightly correlated toprice."
   ]
  },
  {
   "cell_type": "code",
   "execution_count": 41,
   "metadata": {},
   "outputs": [
    {
     "data": {
      "text/plain": [
       "Index(['max_floor_lvl', 'residential', 'commercial', 'market_hawker',\n",
       "       'miscellaneous', 'multistorey_carpark', 'precinct_pavilion',\n",
       "       'total_dwelling_units', '1room_sold', '2room_sold', '3room_sold',\n",
       "       '4room_sold', '5room_sold', 'exec_sold', 'multigen_sold',\n",
       "       'studio_apartment_sold', '1room_rental', '2room_rental', '3room_rental',\n",
       "       'other_room_rental', 'age', 'address', 'town', 'flat_type',\n",
       "       'median_rent', 'price', 'Latitude', 'Longitude'],\n",
       "      dtype='object')"
      ]
     },
     "execution_count": 41,
     "metadata": {},
     "output_type": "execute_result"
    }
   ],
   "source": [
    "data_set.columns"
   ]
  },
  {
   "cell_type": "code",
   "execution_count": 47,
   "metadata": {},
   "outputs": [
    {
     "data": {
      "image/png": "[encoded data removed]",
      "text/plain": [
       "<matplotlib.figure.Figure at 0x6c9be770>"
      ]
     },
     "metadata": {},
     "output_type": "display_data"
    }
   ],
   "source": [
    "sns.set(style='whitegrid', palette=\"deep\", font_scale=1.1, rc={\"figure.figsize\": [8, 5]})\n",
    "sns.distplot(\n",
    "    data_set['price'], norm_hist=False, kde=False, bins=20, hist_kws={\"alpha\": 1}\n",
    ").set(xlabel='Sale Price', ylabel='Count');\n",
    "plt.show()"
   ]
  },
  {
   "cell_type": "markdown",
   "metadata": {},
   "source": [
    "* Resale Price is distributed mostly in 300K to 500K SGD, with few in discrete of 500+K, 600K, 700K and 800K"
   ]
  },
  {
   "cell_type": "code",
   "execution_count": 60,
   "metadata": {},
   "outputs": [
    {
     "data": {
      "image/png": "[encoded data removed]",
      "text/plain": [
       "<matplotlib.figure.Figure at 0x6e9b6870>"
      ]
     },
     "metadata": {},
     "output_type": "display_data"
    }
   ],
   "source": [
    "data_set[['flat_type','median_rent','age']].hist(bins=15, figsize=(15, 6), layout=(2, 4))\n",
    "plt.show()"
   ]
  },
  {
   "cell_type": "code",
   "execution_count": 62,
   "metadata": {},
   "outputs": [
    {
     "data": {
      "image/png": "[encoded data removed]",
      "text/plain": [
       "<matplotlib.figure.Figure at 0x6ef22810>"
      ]
     },
     "metadata": {},
     "output_type": "display_data"
    }
   ],
   "source": [
    "sns.boxplot(x=data_set['flat_type'], y=data_set['price'])\n",
    "plt.show()"
   ]
  },
  {
   "cell_type": "markdown",
   "metadata": {},
   "source": [
    "* Price is highly correlate to flat type, as 3 Room have a price centered around 300K, 4 Room around 400K and 5 Room for 500K SGD"
   ]
  },
  {
   "cell_type": "code",
   "execution_count": 59,
   "metadata": {},
   "outputs": [
    {
     "data": {
      "image/png": "[encoded data removed]",
      "text/plain": [
       "<matplotlib.figure.Figure at 0x6e75dd30>"
      ]
     },
     "metadata": {},
     "output_type": "display_data"
    }
   ],
   "source": [
    "sns.regplot(x=data_set['median_rent'], y=data_set['price'])\n",
    "plt.show()"
   ]
  },
  {
   "cell_type": "markdown",
   "metadata": {},
   "source": [
    "* Rent is positively propotional to Price"
   ]
  },
  {
   "cell_type": "code",
   "execution_count": 61,
   "metadata": {},
   "outputs": [
    {
     "data": {
      "image/png": "[encoded data removed]",
      "text/plain": [
       "<matplotlib.figure.Figure at 0x6e9f5f30>"
      ]
     },
     "metadata": {},
     "output_type": "display_data"
    }
   ],
   "source": [
    "sns.regplot(x=data_set['age'], y=data_set['price'])\n",
    "plt.show()"
   ]
  },
  {
   "cell_type": "markdown",
   "metadata": {},
   "source": [
    "* Price is quite independent on age of HDB housing"
   ]
  },
  {
   "cell_type": "markdown",
   "metadata": {},
   "source": [
    "# Feature Selection by Lasso of L1 Loss"
   ]
  },
  {
   "cell_type": "code",
   "execution_count": 102,
   "metadata": {
    "collapsed": true
   },
   "outputs": [],
   "source": [
    "from sklearn.model_selection import train_test_split\n",
    "from sklearn.linear_model import Lasso\n",
    "from sklearn.feature_selection import SelectFromModel\n",
    "from sklearn.preprocessing import StandardScaler\n",
    "from sklearn.linear_model import LinearRegression\n",
    "from math import sqrt"
   ]
  },
  {
   "cell_type": "markdown",
   "metadata": {},
   "source": [
    "* train test split of 7:3"
   ]
  },
  {
   "cell_type": "code",
   "execution_count": 64,
   "metadata": {},
   "outputs": [
    {
     "data": {
      "text/plain": [
       "((24187, 25), (10367, 25))"
      ]
     },
     "execution_count": 64,
     "metadata": {},
     "output_type": "execute_result"
    }
   ],
   "source": [
    "X_train, X_test, y_train, y_test = train_test_split(\n",
    "    data_set.drop(labels=['price', 'address','town'], axis=1),\n",
    "    data_set['price'],\n",
    "    test_size=0.3,\n",
    "    random_state=0)\n",
    "X_train.shape, X_test.shape"
   ]
  },
  {
   "cell_type": "markdown",
   "metadata": {},
   "source": [
    "* Standardization and fill Nan"
   ]
  },
  {
   "cell_type": "code",
   "execution_count": 65,
   "metadata": {},
   "outputs": [
    {
     "data": {
      "text/plain": [
       "StandardScaler(copy=True, with_mean=True, with_std=True)"
      ]
     },
     "execution_count": 65,
     "metadata": {},
     "output_type": "execute_result"
    }
   ],
   "source": [
    "scaler = StandardScaler()\n",
    "scaler.fit(X_train.fillna(0))"
   ]
  },
  {
   "cell_type": "markdown",
   "metadata": {},
   "source": [
    "* Lasso Alpha range from 0.1 to 10000"
   ]
  },
  {
   "cell_type": "code",
   "execution_count": 96,
   "metadata": {
    "collapsed": true
   },
   "outputs": [],
   "source": [
    "Alpha=[0.1,1,10,100,1000,10000]"
   ]
  },
  {
   "cell_type": "code",
   "execution_count": 107,
   "metadata": {
    "collapsed": true
   },
   "outputs": [],
   "source": [
    "feature_selected=[]\n",
    "feature_names=[]\n",
    "MAE=[]\n",
    "RMSE=[]\n",
    "R2_score=[]"
   ]
  },
  {
   "cell_type": "markdown",
   "metadata": {},
   "source": [
    "* Use the features selected by Lasso to perform Linear regression and compare MAE,RMSE and R2 score"
   ]
  },
  {
   "cell_type": "code",
   "execution_count": 108,
   "metadata": {},
   "outputs": [
    {
     "name": "stderr",
     "output_type": "stream",
     "text": [
      "C:\\Users\\SQF\\Anaconda3\\lib\\site-packages\\sklearn\\linear_model\\coordinate_descent.py:484: ConvergenceWarning: Objective did not converge. You might want to increase the number of iterations. Fitting data with very small alpha may cause precision problems.\n",
      "  ConvergenceWarning)\n"
     ]
    },
    {
     "name": "stdout",
     "output_type": "stream",
     "text": [
      "Alpha:0.1\n",
      "total features: 25\n",
      "selected features: 25\n",
      "features with coefficients shrank to zero: 0\n",
      "Mean absolute error: 36532.51\n",
      "Root Residual sum of squares (RMSE): 45919.30\n",
      "R2-score: 0.87\n"
     ]
    },
    {
     "name": "stderr",
     "output_type": "stream",
     "text": [
      "C:\\Users\\SQF\\Anaconda3\\lib\\site-packages\\sklearn\\linear_model\\coordinate_descent.py:484: ConvergenceWarning: Objective did not converge. You might want to increase the number of iterations. Fitting data with very small alpha may cause precision problems.\n",
      "  ConvergenceWarning)\n"
     ]
    },
    {
     "name": "stdout",
     "output_type": "stream",
     "text": [
      "Alpha:1\n",
      "total features: 25\n",
      "selected features: 25\n",
      "features with coefficients shrank to zero: 0\n",
      "Mean absolute error: 36532.51\n",
      "Root Residual sum of squares (RMSE): 45919.30\n",
      "R2-score: 0.87\n",
      "Alpha:10\n",
      "total features: 25\n",
      "selected features: 24\n",
      "features with coefficients shrank to zero: 1\n",
      "Mean absolute error: 36532.51\n",
      "Root Residual sum of squares (RMSE): 45919.30\n",
      "R2-score: 0.87\n",
      "Alpha:100\n",
      "total features: 25\n",
      "selected features: 21\n",
      "features with coefficients shrank to zero: 4\n",
      "Mean absolute error: 36539.40\n",
      "Root Residual sum of squares (RMSE): 45914.75\n",
      "R2-score: 0.87\n",
      "Alpha:1000\n",
      "total features: 25\n",
      "selected features: 8\n",
      "features with coefficients shrank to zero: 17\n",
      "Mean absolute error: 36604.45\n",
      "Root Residual sum of squares (RMSE): 45952.70\n",
      "R2-score: 0.87\n",
      "Alpha:10000\n",
      "total features: 25\n",
      "selected features: 2\n",
      "features with coefficients shrank to zero: 23\n",
      "Mean absolute error: 37577.78\n",
      "Root Residual sum of squares (RMSE): 46732.99\n",
      "R2-score: 0.87\n"
     ]
    }
   ],
   "source": [
    "for alpha in Alpha:\n",
    "    \n",
    "    sel_ = SelectFromModel(Lasso(alpha))\n",
    "    sel_.fit(scaler.transform(X_train.fillna(0)), y_train)\n",
    "    selected_feat = X_train.columns[(sel_.get_support())]\n",
    "    print('Alpha:{}'.format(alpha))\n",
    "    print('total features: {}'.format((X_train.shape[1])))\n",
    "    print('selected features: {}'.format(len(selected_feat)))\n",
    "    feature_selected.append(len(selected_feat))\n",
    "    print('features with coefficients shrank to zero: {}'.format(\n",
    "          np.sum(sel_.estimator_.coef_ == 0)))\n",
    "    feature_names.append(selected_feat)\n",
    "    X_train_selected = sel_.transform(X_train.fillna(0))\n",
    "    X_test_selected = sel_.transform(X_test.fillna(0))\n",
    "    regressor = LinearRegression()\n",
    "    regressor.fit(X_train_selected, y_train)\n",
    "    yhat = regressor.predict(X_test_selected)\n",
    "    print(\"Mean absolute error: %.2f\" % np.mean(np.absolute(yhat - y_test)))\n",
    "    MAE.append(\"%.2f\" % np.mean(np.absolute(yhat - y_test)))\n",
    "    print(\"Root Residual sum of squares (RMSE): %.2f\" % sqrt(np.mean((yhat - y_test) ** 2)))\n",
    "    mse=np.mean((yhat - y_test) ** 2)\n",
    "    rmse= sqrt(mse)\n",
    "    RMSE.append(\"%.2f\" % rmse)\n",
    "    from sklearn.metrics import r2_score\n",
    "    print(\"R2-score: %.2f\" % r2_score(yhat,y_test) )\n",
    "    R2_score.append(\"%.2f\" % r2_score(yhat,y_test))"
   ]
  },
  {
   "cell_type": "code",
   "execution_count": 109,
   "metadata": {},
   "outputs": [
    {
     "data": {
      "text/html": [
       "<div>\n",
       "<table border=\"1\" class=\"dataframe\">\n",
       "  <thead>\n",
       "    <tr style=\"text-align: right;\">\n",
       "      <th></th>\n",
       "      <th>Alpha</th>\n",
       "      <th>feature_selected</th>\n",
       "      <th>feature_names</th>\n",
       "      <th>MAE</th>\n",
       "      <th>RMSE</th>\n",
       "      <th>R2_score</th>\n",
       "    </tr>\n",
       "  </thead>\n",
       "  <tbody>\n",
       "    <tr>\n",
       "      <th>0</th>\n",
       "      <td>0.1</td>\n",
       "      <td>25</td>\n",
       "      <td>Index(['max_floor_lvl', 'residential', 'commer...</td>\n",
       "      <td>36532.51</td>\n",
       "      <td>45919.30</td>\n",
       "      <td>0.87</td>\n",
       "    </tr>\n",
       "    <tr>\n",
       "      <th>1</th>\n",
       "      <td>1.0</td>\n",
       "      <td>25</td>\n",
       "      <td>Index(['max_floor_lvl', 'residential', 'commer...</td>\n",
       "      <td>36532.51</td>\n",
       "      <td>45919.30</td>\n",
       "      <td>0.87</td>\n",
       "    </tr>\n",
       "    <tr>\n",
       "      <th>2</th>\n",
       "      <td>10.0</td>\n",
       "      <td>24</td>\n",
       "      <td>Index(['max_floor_lvl', 'residential', 'commer...</td>\n",
       "      <td>36532.51</td>\n",
       "      <td>45919.30</td>\n",
       "      <td>0.87</td>\n",
       "    </tr>\n",
       "    <tr>\n",
       "      <th>3</th>\n",
       "      <td>100.0</td>\n",
       "      <td>21</td>\n",
       "      <td>Index(['max_floor_lvl', 'commercial', 'market_...</td>\n",
       "      <td>36539.40</td>\n",
       "      <td>45914.75</td>\n",
       "      <td>0.87</td>\n",
       "    </tr>\n",
       "    <tr>\n",
       "      <th>4</th>\n",
       "      <td>1000.0</td>\n",
       "      <td>8</td>\n",
       "      <td>Index(['max_floor_lvl', 'commercial', 'market_...</td>\n",
       "      <td>36604.45</td>\n",
       "      <td>45952.70</td>\n",
       "      <td>0.87</td>\n",
       "    </tr>\n",
       "    <tr>\n",
       "      <th>5</th>\n",
       "      <td>10000.0</td>\n",
       "      <td>2</td>\n",
       "      <td>Index(['flat_type', 'median_rent'], dtype='obj...</td>\n",
       "      <td>37577.78</td>\n",
       "      <td>46732.99</td>\n",
       "      <td>0.87</td>\n",
       "    </tr>\n",
       "  </tbody>\n",
       "</table>\n",
       "</div>"
      ],
      "text/plain": [
       "     Alpha  feature_selected  \\\n",
       "0      0.1                25   \n",
       "1      1.0                25   \n",
       "2     10.0                24   \n",
       "3    100.0                21   \n",
       "4   1000.0                 8   \n",
       "5  10000.0                 2   \n",
       "\n",
       "                                       feature_names       MAE      RMSE  \\\n",
       "0  Index(['max_floor_lvl', 'residential', 'commer...  36532.51  45919.30   \n",
       "1  Index(['max_floor_lvl', 'residential', 'commer...  36532.51  45919.30   \n",
       "2  Index(['max_floor_lvl', 'residential', 'commer...  36532.51  45919.30   \n",
       "3  Index(['max_floor_lvl', 'commercial', 'market_...  36539.40  45914.75   \n",
       "4  Index(['max_floor_lvl', 'commercial', 'market_...  36604.45  45952.70   \n",
       "5  Index(['flat_type', 'median_rent'], dtype='obj...  37577.78  46732.99   \n",
       "\n",
       "  R2_score  \n",
       "0     0.87  \n",
       "1     0.87  \n",
       "2     0.87  \n",
       "3     0.87  \n",
       "4     0.87  \n",
       "5     0.87  "
      ]
     },
     "execution_count": 109,
     "metadata": {},
     "output_type": "execute_result"
    }
   ],
   "source": [
    "pd.DataFrame(list(zip(Alpha,feature_selected,feature_names,MAE,RMSE,R2_score)),\\\n",
    "             columns =['Alpha','feature_selected','feature_names','MAE','RMSE','R2_score'])"
   ]
  },
  {
   "cell_type": "markdown",
   "metadata": {},
   "source": [
    "* To prevent overfitting, we will select flat_type and median_rent, which will give decent R2 and similar MAE and RMSE"
   ]
  },
  {
   "cell_type": "code",
   "execution_count": 110,
   "metadata": {
    "collapsed": true
   },
   "outputs": [],
   "source": [
    "X_explore=to_explore.drop(labels=['price', 'address','town'], axis=1)\n",
    "pred=regressor.predict(sel_.transform(X_explore.fillna(0)))"
   ]
  },
  {
   "cell_type": "code",
   "execution_count": 115,
   "metadata": {},
   "outputs": [
    {
     "data": {
      "text/plain": [
       "array([ 38161.94771788,    340.5834673 ])"
      ]
     },
     "execution_count": 115,
     "metadata": {},
     "output_type": "execute_result"
    }
   ],
   "source": [
    "regressor.coef_"
   ]
  },
  {
   "cell_type": "code",
   "execution_count": 116,
   "metadata": {},
   "outputs": [
    {
     "data": {
      "text/plain": [
       "-396247.97384577146"
      ]
     },
     "execution_count": 116,
     "metadata": {},
     "output_type": "execute_result"
    }
   ],
   "source": [
    "regressor.intercept_"
   ]
  },
  {
   "cell_type": "code",
   "execution_count": 111,
   "metadata": {},
   "outputs": [
    {
     "data": {
      "text/plain": [
       "array([ 459314.29540396,  459314.29540396,  459314.29540396, ...,\n",
       "        425255.94867347,  425255.94867347,  425255.94867347])"
      ]
     },
     "execution_count": 111,
     "metadata": {},
     "output_type": "execute_result"
    }
   ],
   "source": [
    "pred"
   ]
  },
  {
   "cell_type": "code",
   "execution_count": 113,
   "metadata": {},
   "outputs": [
    {
     "data": {
      "image/png": "[encoded data removed]",
      "text/plain": [
       "<matplotlib.figure.Figure at 0x70536310>"
      ]
     },
     "metadata": {},
     "output_type": "display_data"
    }
   ],
   "source": [
    "sns.set(style='whitegrid', palette=\"deep\", font_scale=1.1, rc={\"figure.figsize\": [8, 5]})\n",
    "sns.distplot(\n",
    "    pred, norm_hist=False, kde=False, bins=20, hist_kws={\"alpha\": 1}\n",
    ").set(xlabel='Predicted Sale Price', ylabel='Count');\n",
    "plt.show()"
   ]
  },
  {
   "cell_type": "markdown",
   "metadata": {
    "collapsed": true
   },
   "source": [
    "* Prediction on HDB housing we do not know prices\n",
    "* Similar distribution like the data_set"
   ]
  },
  {
   "cell_type": "code",
   "execution_count": null,
   "metadata": {
    "collapsed": true
   },
   "outputs": [],
   "source": []
  }
 ],
 "metadata": {
  "kernelspec": {
   "display_name": "Python 3",
   "language": "python",
   "name": "python3"
  },
  "language_info": {
   "codemirror_mode": {
    "name": "ipython",
    "version": 3
   },
   "file_extension": ".py",
   "mimetype": "text/x-python",
   "name": "python",
   "nbconvert_exporter": "python",
   "pygments_lexer": "ipython3",
   "version": "3.5.3"
  }
 },
 "nbformat": 4,
 "nbformat_minor": 2
}
